{
 "cells": [
  {
   "cell_type": "markdown",
   "metadata": {},
   "source": [
    "# EECS 598 Backpropagation, optimization and regularization tutorial"
   ]
  },
  {
   "cell_type": "markdown",
   "metadata": {},
   "source": [
    "Backpropagation tutorial is adapted from ( https://github.com/jcjohnson/pytorch-examples )."
   ]
  },
  {
   "cell_type": "markdown",
   "metadata": {},
   "source": [
    "## Introduction"
   ]
  },
  {
   "cell_type": "markdown",
   "metadata": {},
   "source": [
    "Neural networks are powerful models that can approximate any function [(theorem)](https://en.wikipedia.org/wiki/Universal_approximation_theorem). By forward propagating an input through a neural network, we can extract information necessary to map that input to a desired output (e.g. class label). However, we need to adjust the network connections based on input/output pairs seen in training examples. This process can be achieved by the backpropagation algorithm (Backprop) and stochastic gradient descent (SGD).\n",
    "\n",
    "This tutorial assumes understanding basic linear algebra operations such as dot product, and also assumes understanding of derivatives and the chain rule."
   ]
  },
  {
   "cell_type": "markdown",
   "metadata": {},
   "source": [
    "In this tutorial, we will cover:\n",
    "\n",
    "* Forward propagation\n",
    "* Backpropagation\n",
    "* Optimization: SGD with Momentum, AdaGrad, RMSProp, Adam\n",
    "* Regularization: L1, L2, Dropout, and Early Stopping."
   ]
  },
  {
   "cell_type": "markdown",
   "metadata": {},
   "source": [
    "We will use PyTorch throughout this tutorial."
   ]
  },
  {
   "cell_type": "code",
   "execution_count": 1,
   "metadata": {},
   "outputs": [],
   "source": [
    "from IPython.core.display import HTML, Image\n",
    "from IPython.display import YouTubeVideo\n",
    "from sympy import init_printing, Matrix, symbols, Rational\n",
    "import sympy as sym\n",
    "from warnings import filterwarnings\n",
    "init_printing(use_latex = 'mathjax')\n",
    "filterwarnings('ignore')\n",
    "\n",
    "\n",
    "%matplotlib inline\n",
    "import math\n",
    "import matplotlib.pyplot as plt\n",
    "import torch\n",
    "device = torch.device('cpu')\n",
    "# device = torch.device('cuda') # Uncomment this to run on GPU"
   ]
  },
  {
   "cell_type": "markdown",
   "metadata": {},
   "source": [
    "## Forward propagation"
   ]
  },
  {
   "cell_type": "markdown",
   "metadata": {},
   "source": [
    "Neural networks consist of many layers of computation that start from the lowest level (i.e. network input). Each layer consists of a dot product operation on the input followed by adding a bias term and an activation function.\n",
    "Note: We do not add bias term in this tutorial, however, this is left for students as an exercise."
   ]
  },
  {
   "cell_type": "markdown",
   "metadata": {},
   "source": [
    "### Single layer computation"
   ]
  },
  {
   "cell_type": "code",
   "execution_count": 2,
   "metadata": {},
   "outputs": [],
   "source": [
    "\"\"\"Create some dummy data points\"\"\"\n",
    "# N is batch size; D_in is input dimension;\n",
    "# H is hidden dimension\n",
    "N, D_in, H = 64, 1000, 100\n",
    "x = torch.randn(N, D_in, device=device)     # Input to network (layer0)"
   ]
  },
  {
   "cell_type": "markdown",
   "metadata": {},
   "source": [
    "### Stacking multiple layers"
   ]
  },
  {
   "cell_type": "code",
   "execution_count": 3,
   "metadata": {},
   "outputs": [],
   "source": [
    "\"\"\"Create weight for the single layer, and forward through it with a ReLU activation\"\"\"\n",
    "w1 = torch.randn(D_in, H, device=device)  # First layer weight matrix\n",
    "b1 = torch.zeros(1, H, device=device)        # First layer bias\n",
    "a1 = x.mm(w1) + b1                        # Preactivation of layer 1\n",
    "h1 = a1.clamp(min=0)                      # Layer 1 output (ReLU activated)"
   ]
  },
  {
   "cell_type": "code",
   "execution_count": 4,
   "metadata": {},
   "outputs": [],
   "source": [
    "\"\"\"Create weight matrix for the next layer layer and forward through it taking the previous layer output as input\"\"\"\n",
    "D_out = 10  \n",
    "w2 = torch.randn(H, D_out, device=device)   # Second layer weight matrix\n",
    "b2 = torch.zeros(1, D_out, device=device)   # Second layer bias\n",
    "yhat = h1.mm(w2) + b2                       # Linear activation"
   ]
  },
  {
   "cell_type": "markdown",
   "metadata": {},
   "source": [
    "## Backpropagation algorithm"
   ]
  },
  {
   "cell_type": "code",
   "execution_count": 5,
   "metadata": {},
   "outputs": [
    {
     "data": {
      "text/plain": [
       "[<matplotlib.lines.Line2D at 0x7f71604de1d0>]"
      ]
     },
     "execution_count": 5,
     "metadata": {},
     "output_type": "execute_result"
    },
    {
     "data": {
      "image/png": "[encoded data removed]",
      "text/plain": [
       "<Figure size 432x288 with 1 Axes>"
      ]
     },
     "metadata": {
      "needs_background": "light"
     },
     "output_type": "display_data"
    }
   ],
   "source": [
    "\"\"\"Forward propagate through a single layer network and backpropagate for max_steps steps\"\"\"\n",
    "\n",
    "# Create random input/output data\n",
    "x = torch.randn(N, D_in, device=device)\n",
    "y = torch.randn(N, D_out, device=device)\n",
    "\n",
    "# Randomly initialize weights\n",
    "w1 = torch.randn(D_in, D_out, device=device)\n",
    "b1 = torch.zeros(1, D_out, device=device)\n",
    "\n",
    "# Define optimization (learning) steps\n",
    "max_steps = 500\n",
    "\n",
    "# Define learning rate\n",
    "learning_rate = 1e-6\n",
    "\n",
    "# Container to store loss through training\n",
    "loss_list = [] \n",
    "for t in range(max_steps):\n",
    "    # Forward pass: compute predicted y (yhat)\n",
    "    a1 = x.mm(w1) + b1                      # Layer 1 pre-activation\n",
    "    yhat = a1.clone()                       # Layer 2 activation (linear activation)\n",
    "    \n",
    "    # Compute and print loss; loss is a scalar, and is stored in a PyTorch Tensor\n",
    "    # of shape (); we can get its value as a Python number with loss.item().\n",
    "    loss = (yhat - y).pow(2).sum()\n",
    "    loss_list.append(loss)\n",
    "\n",
    "    # Backprop to compute gradients of w1 with respect to the squared loss\n",
    "    # Gradient of the loss layer with respect to the network output\n",
    "    grad_yhat = 2.0 * (yhat - y)            # dC_dyhat\n",
    "                                            # Output shape: N x D_out\n",
    "    \n",
    "    \n",
    "    # Gradients in layer 1 take in gradients of the cost with respect to its output\n",
    "    # and computes its internal gradients. Note: activation is Linear!!\n",
    "    grad_a1 = grad_yhat.clone()             # dC_da1 -> dC_dyhat * dyhat_da1 Gradient of Linear activation\n",
    "                                            # Output shape: N x D_out\n",
    "\n",
    "    grad_w1 = x.t().mm(grad_a1)             # dC_dw1 = da1_dw1 \\dot dC_da1\n",
    "                                            # Output shape: D_in x D_out\n",
    "\n",
    "    grad_b1 = torch.ones(1, N).mm(grad_a1)  # dC_db1 = da1_db1 \\dot dC_da1\n",
    "                                            # Output shape: 1 x D_out\n",
    "\n",
    "    grad_x = grad_a1.mm(w1.t())             # dC_dx = dC_da1 \\dot da1_dx\n",
    "                                            # Output shape: N x D_in\n",
    "\n",
    "    # No more layers! Let's update the parameters using gradient descent\n",
    "    w1 -= learning_rate * grad_w1\n",
    "    b1 -= learning_rate * grad_b1\n",
    "\n",
    "\n",
    "# Plot learning curve\n",
    "plt.title('Learning curve.')\n",
    "plt.ylabel('MSE')\n",
    "plt.xlabel('Optimization steps.')\n",
    "plt.plot(loss_list, '--')"
   ]
  },
  {
   "cell_type": "markdown",
   "metadata": {},
   "source": [
    "### Exercise: Implement a two layer network backward pass with ReLU activation in the first hidden layer (15 minutes)."
   ]
  },
  {
   "cell_type": "code",
   "execution_count": 9,
   "metadata": {},
   "outputs": [
    {
     "data": {
      "text/plain": [
       "[<matplotlib.lines.Line2D at 0x7f712c070f10>]"
      ]
     },
     "execution_count": 9,
     "metadata": {},
     "output_type": "execute_result"
    },
    {
     "data": {
      "image/png": "[encoded data removed]",
      "text/plain": [
       "<Figure size 432x288 with 1 Axes>"
      ]
     },
     "metadata": {
      "needs_background": "light"
     },
     "output_type": "display_data"
    }
   ],
   "source": [
    "\"\"\"Forward propagate through network and backpropagate for max_steps steps\"\"\"\n",
    "\n",
    "# Create random input/output data\n",
    "x = torch.randn(N, D_in, device=device)\n",
    "y = torch.randn(N, D_out, device=device)\n",
    "\n",
    "# Randomly initialize weights\n",
    "w1 = torch.randn(D_in, H, device=device)\n",
    "b1 = torch.zeros(1, H, device=device)\n",
    "w2 = torch.randn(H, D_out, device=device)\n",
    "b2 = torch.zeros(1, D_out, device=device)\n",
    "\n",
    "# Define optimization (learning) steps\n",
    "max_steps = 500\n",
    "\n",
    "# Define learning rate\n",
    "learning_rate = 1e-6\n",
    "\n",
    "# Container to store loss through training\n",
    "loss_list = [] \n",
    "for t in range(max_steps):\n",
    "    # Forward pass: compute predicted y (yhat)\n",
    "    a1 = x.mm(w1) + b1              # Layer 1 preactivation, N x H\n",
    "    # equiv to a1 = x.mm(w1) + torch.ones(H, 1).mm(b1); just a syntax sugar that broadcasts b1\n",
    "    h1 = a1.clamp(min=0)            # Layer 1 output, N x H\n",
    "    a2 = h1.mm(w2) + b2             # Layer 2 pre activation, N x D_out\n",
    "    yhat = a2.clone()               # Layer 2 activation (linear activation)\n",
    "    \n",
    "    # Compute and print loss; loss is a scalar, and is stored in a PyTorch Tensor\n",
    "    # of shape (); we can get its value as a Python number with loss.item().\n",
    "    loss = (yhat - y).pow(2).sum()\n",
    "    loss_list.append(loss)\n",
    "\n",
    "    # Backprop to compute gradients of w1 and w2 with respect to loss\n",
    "    # Gradient of the loss layer with respect to input\n",
    "    grad_yhat = 2.0 * (yhat - y)            # dC_dyhat\n",
    "    \n",
    "    \n",
    "    # Gradients in layer 2 take in gradient of the cost with respect of its output\n",
    "    # and computes its internal gradients. Note: activation is linear so\n",
    "    grad_a2 = grad_yhat.clone()             # dC_da2 -> dC_yhat * dyhat_a2 Gradient of linear activation\n",
    "                                            # Output shape: N x D_out\n",
    "    \n",
    "    grad_w2 = h1.t().mm(grad_a2)            # dC_dw2 = da2_dw2 \\dot dC_da2\n",
    "                                            # Output shape: H x D_out = N x H ^ T \\dot N x D_out\n",
    "    \n",
    "    grad_b2 = torch.ones(1, N).mm(grad_a2)  # dC_db2 = dyhat_db2 \\dot dC_da2\n",
    "                                            # Output shape: 1 x D_out = 1 x N \\dot N x D_out\n",
    "    \n",
    "    grad_h1 = grad_a2.mm(w2.t())            # dC_dh1 = dC_da2 \\dot da2_dh1\n",
    "                                            # Output shape: N x H = = N x D_out \\dot D_out x H\n",
    "\n",
    "\n",
    "    \"\"\"\"\"\"\"\"\"\"\"\"\"\"\"\"\"\"\"\"\"\"\"\"\"\"\"\"\"\"\"\"\"\"\"\"\"\"\"\"\"\"\"\"\"\"\"\"\"\"\"\"\"\"\"\"\"\"\"\"\"\"\"\"\"\n",
    "    \"\"\"\"\"\"\"\"\"\"\"\"\"\"\"\"\"\"\"\"\"\"\"\"\"\"\"\"\"\"\"\"\"\"\"\"\"\"\"\"\"\"\"\"\"\"\"\"\"\"\"\"\"\"\"\"\"\"\"\"\"\"\"\"\"\n",
    "    \"\"\" COMPLETE CODE BELOW \"\"\"\"\"\"\"\"\"\"\"\"\"\"\"\"\"\"\"\"\"\"\"\"\"\"\"\"\"\"\"\"\"\"\"\"\"\"\"\"\"\n",
    "    # Gradients in layer 1 take in gradients of the cost with respect to its output\n",
    "    # and computes its internal gradients. Note: activation is ReLU!!\n",
    "    grad_a1 = grad_h1.clone()\n",
    "    grad_a1[h1 < 0] = 0                           # dC_da1 = dC_dh1 * dh1_da1 Gradient of ReLU activation\n",
    "#                                             # Output shape: N x H\n",
    "#\n",
    "    grad_w1 = x.t().mm(grad_a1)                           # dC_dw1 = da1_dw1 \\dot dC_da1\n",
    "#                                             # Output shape: D_in x H = N x D_in ^T \\dot N x H\n",
    "#\n",
    "    grad_b1 = torch.ones(1, N).mm(grad_a1)                           # dC_db2 = da1_db1 \\dot dC_da1\n",
    "#                                             # Output shape: 1 x H = 1 x N \\dot N x H\n",
    "#\n",
    "    grad_x = grad_a1.mm(w1.t())                            # dC_dx = dC_da1 \\dot da1_dx\n",
    "#                                             # Output shape: N x D_in = N x H \\dot H x D_in\n",
    "#\n",
    "    \"\"\"\"\"\"\"\"\"\"\"\"\"\"\"\"\"\"\"\"\"\"\"\"\"\"\"\"\"\"\"\"\"\"\"\"\"\"\"\"\"\"\"\"\"\"\"\"\"\"\"\"\"\"\"\"\"\"\"\"\"\"\"\"\"\n",
    "    \"\"\"\"\"\"\"\"\"\"\"\"\"\"\"\"\"\"\"\"\"\"\"\"\"\"\"\"\"\"\"\"\"\"\"\"\"\"\"\"\"\"\"\"\"\"\"\"\"\"\"\"\"\"\"\"\"\"\"\"\"\"\"\"\"\n",
    "\n",
    "    # No more layers! Let's update the parameters using gradient descent\n",
    "    w1 -= learning_rate * grad_w1\n",
    "    b1 -= learning_rate * grad_b1\n",
    "    w2 -= learning_rate * grad_w2\n",
    "    b2 -= learning_rate * grad_b2\n",
    "\n",
    "\n",
    "# Plot learning curve\n",
    "plt.title('Learning curve.')\n",
    "plt.ylabel('MSE')\n",
    "plt.xlabel('Optimization steps.')\n",
    "plt.plot(loss_list, '--')"
   ]
  },
  {
   "cell_type": "markdown",
   "metadata": {},
   "source": [
    "## Let's implement the model training in PyTorch!"
   ]
  },
  {
   "cell_type": "code",
   "execution_count": 6,
   "metadata": {},
   "outputs": [
    {
     "data": {
      "text/plain": [
       "[<matplotlib.lines.Line2D at 0x7f712c132b90>]"
      ]
     },
     "execution_count": 6,
     "metadata": {},
     "output_type": "execute_result"
    },
    {
     "data": {
      "image/png": "[encoded data removed]",
      "text/plain": [
       "<Figure size 432x288 with 1 Axes>"
      ]
     },
     "metadata": {
      "needs_background": "light"
     },
     "output_type": "display_data"
    }
   ],
   "source": [
    "\"\"\"Forward propagate through network and backpropagate for max_steps steps with PyTorch modules\"\"\"\n",
    "# Define optimization (learning) steps\n",
    "max_steps = 500\n",
    "\n",
    "# Define learning rate\n",
    "learning_rate = 1e-6\n",
    "\n",
    "# Container to store loss through training\n",
    "loss_list = []\n",
    "\n",
    "# Define network with similar initialization as the above example for consistency\n",
    "# Layer1\n",
    "layer1 = torch.nn.Linear(D_in, H)\n",
    "layer1.weight = torch.nn.Parameter(torch.randn(H, D_in, device=device))\n",
    "layer1.bias = torch.nn.Parameter(torch.zeros(H, device=device))\n",
    "\n",
    "# Layer2\n",
    "layer2 = torch.nn.Linear(H, D_out)\n",
    "layer2.weight = torch.nn.Parameter(torch.randn(D_out, H, device=device))\n",
    "layer2.bias = torch.nn.Parameter(torch.zeros(D_out, device=device))\n",
    "\n",
    "net = torch.nn.Sequential(\n",
    "    layer1,\n",
    "    torch.nn.ReLU(),\n",
    "    layer2\n",
    ").to(device)\n",
    "\n",
    "# Define optimizer\n",
    "optimizer = torch.optim.SGD(net.parameters(), learning_rate)\n",
    "\n",
    "# Define loss function\n",
    "loss_fn = torch.nn.MSELoss(reduction='sum')\n",
    "\n",
    "for t in range(max_steps):\n",
    "    # Forward pass and loss computation\n",
    "    yhat = net.forward(x)\n",
    "    loss = loss_fn(yhat, y)\n",
    "    loss_list.append(loss.item())\n",
    "\n",
    "    # Compute gradients using backpropagation\n",
    "    optimizer.zero_grad()\n",
    "    loss.backward()\n",
    "    \n",
    "    # Take gradient step\n",
    "    optimizer.step()\n",
    "\n",
    "\n",
    "# Plot learning curve\n",
    "plt.title('Learning curve.')\n",
    "plt.ylabel('MSE')\n",
    "plt.xlabel('Optimization steps.')\n",
    "plt.plot(loss_list, '--')"
   ]
  },
  {
   "cell_type": "markdown",
   "metadata": {},
   "source": [
    "## Optimization"
   ]
  },
  {
   "cell_type": "markdown",
   "metadata": {},
   "source": [
    "There are a vast variety of optimizers that we can use to optimize our network parameters. We will focus on the following: SGD, SGD with Momentum, AdaGrad, Adadelta, RMSProp and Adam"
   ]
  },
  {
   "cell_type": "markdown",
   "metadata": {},
   "source": [
    "#### SGD"
   ]
  },
  {
   "cell_type": "markdown",
   "metadata": {},
   "source": [
    "Stochastic gradient descent (SGD) is simply a parameter update algorithm that maximizes an objective function:\n",
    "\n",
    "$$\n",
    "\\begin{equation} \n",
    "\\theta_{t+1} = \\theta_t - \\alpha \\nabla_{\\theta_t} J(\\theta_t), \\nonumber\n",
    "\\end{equation}\n",
    "$$\n",
    "\n",
    "where $\\ell$ is the objective function we want to optimize, $\\theta_t$ and $\\theta_{t+1}$ are the parameters in the network before and after the update, respectively. Finally, $\\alpha$ is the step size of the update (learning rate).\n"
   ]
  },
  {
   "cell_type": "markdown",
   "metadata": {},
   "source": [
    "#### SGD with Momentum"
   ]
  },
  {
   "cell_type": "markdown",
   "metadata": {},
   "source": [
    "SGD with momentum, in contrast to simple SGD, is a method that prevents oscillations during an update by adding the scaled previous update in the optimization to the current update:\n",
    "\n",
    "$$\n",
    "\\begin{align}\n",
    "v_{t+1} =& \\gamma v_{t} + \\alpha \\nabla_{\\theta_t} J(\\theta_t), \\nonumber \\\\\n",
    "\\theta_{t+1} =& \\theta_t + v_{t+1}, \\nonumber\n",
    "\\end{align}\n",
    "$$\n",
    "\n",
    "where $v_0$ is initialized to zeros in the first optimization of the timestep.\n"
   ]
  },
  {
   "cell_type": "markdown",
   "metadata": {},
   "source": [
    "#### AdaGrad"
   ]
  },
  {
   "cell_type": "markdown",
   "metadata": {},
   "source": [
    "Adagrad or adaptive gradient algorithm is a parameter update method that adapts the learning rate based on whether the parameters represent frequently ocurring features or infrecuently ocurring features.\n",
    "\n",
    "$$\n",
    "\\begin{align}\n",
    "g_{t} =& \\nabla_{\\theta_{t}} J(\\theta_{t}), \\nonumber \\\\\n",
    "\\theta_{t+1} =& \\theta_{t} - \\frac{\\alpha}{\\sqrt{G_{t} + \\epsilon}} \\odot g_{t}, \\nonumber\n",
    "\\end{align}\n",
    "$$\n",
    "\n",
    "where $G_{t} \\in \\mathbb{R}^{d \\times d}$ is a diagonal matrix where $G_{i,i}$ is $\\sum^{t}_1 g_{t,i}^2$"
   ]
  },
  {
   "cell_type": "markdown",
   "metadata": {},
   "source": [
    "#### RMSProp"
   ]
  },
  {
   "cell_type": "markdown",
   "metadata": {},
   "source": [
    "RMSProp is similar to adagrad but with one difference: Instead of accumulating all past squared gradients, it looks at a window of previous gradients defined by a decaying factor.\n",
    "\n",
    "$$\n",
    "\\begin{align}\n",
    "\\mathbb{E}[g^2]_{t} =& \\gamma \\mathbb{E}[g^2]_{t-1} + (1 - \\gamma)g_{t}^2, \\nonumber \\\\\n",
    "\\theta_{t+1} =& \\theta_{t} - \\frac{\\alpha}{\\sqrt{\\mathbb{E}[g^2]_{t} + \\epsilon}} \\odot g_{t}, \\nonumber\n",
    "\\end{align}\n",
    "$$\n",
    "\n"
   ]
  },
  {
   "cell_type": "markdown",
   "metadata": {},
   "source": [
    "#### Adadelta"
   ]
  },
  {
   "cell_type": "markdown",
   "metadata": {},
   "source": [
    "Adadelta was developed around the same time as RMSProp. This update rule, however, completely remove the learning rate from the equation by a running average of the squared parameter updates in the numerator:\n",
    "\n",
    "$$\n",
    "\\begin{align}\n",
    "\\mathbb{E}[g^2]_{t} =& \\rho \\mathbb{E}[g^2]_{t-1} + (1 - \\rho)g_{t}^2, \\nonumber \\\\\n",
    "\\mathbb{E}[\\nabla \\theta^2]_{t-1} =& \\rho \\mathbb{E}[\\nabla \\theta^2]_{t-2} + (1 - \\rho)\\nabla \\theta_{t}^2, \\nonumber \\\\\n",
    "\\nabla \\theta_t =& -\\frac{\\sqrt{\\mathbb{E}[\\nabla \\theta^2]_{t-1} + \\epsilon}}{\\sqrt{\\mathbb{E}[g^2]_{t} + \\epsilon}} \\odot g_{t}, \\nonumber \\\\\n",
    "\\theta_{t+1} =& \\theta_{t} + \\nabla \\theta_t, \\nonumber\n",
    "\\end{align}\n",
    "$$"
   ]
  },
  {
   "cell_type": "markdown",
   "metadata": {},
   "source": [
    "#### Adam"
   ]
  },
  {
   "cell_type": "markdown",
   "metadata": {},
   "source": [
    "Adam or adaptive moment estimation is another adaptive learning rate method with respect to each parameter. This method also keeps an exponentially decaying average of past gradients. However, in constrast to previous methods, a momentum like term is used which keeps an exponentially decaying average of past gradients. The parameter update is performed as follows:\n",
    "\n",
    "$$\n",
    "\\begin{align}\n",
    "m_{t} =& \\beta_1 m_{t-1} + (1 - \\beta_1)g_{t}, \\nonumber \\\\\n",
    "v_{t} =& \\beta_2 v_{t-1} + (1 - \\beta_2)g_t^2, \\nonumber \\\\\n",
    "\\hat{m}_t =& \\frac{m_t}{1-\\beta_1^t}, \\nonumber \\\\\n",
    "\\hat{v}_t =& \\frac{v_t}{1-\\beta_2^t}, \\nonumber \\\\\n",
    "\\theta_{t+1} =& \\theta_{t} - \\frac{\\alpha}{\\sqrt{\\hat{v}_t} + \\epsilon}\\hat{m}_t, \\nonumber\n",
    "\\end{align}\n",
    "$$\n",
    "\n",
    "where $m_t$ and $v_t$ are the first and second moment estimates of the gradients while $\\hat{m}_t$ and $\\hat{v}_t$ are bias corrected values of the two moments. \n"
   ]
  },
  {
   "cell_type": "markdown",
   "metadata": {},
   "source": [
    "Now that we have a rough intuition of what the previously mentioned optimizers are doing, we can run some network trainings and try each one of them! Take your time to play with the hyperparameters."
   ]
  },
  {
   "cell_type": "code",
   "execution_count": null,
   "metadata": {},
   "outputs": [],
   "source": [
    "optimizers = []\n",
    "\n",
    "# Remove optimizers by commenting lines below\n",
    "# Try different hyperparameters to see any behavior change\n",
    "optimizers.append(\n",
    "    lambda params: torch.optim.SGD(\n",
    "        params, lr=1e-4))\n",
    "optimizers.append(\n",
    "    lambda params: torch.optim.SGD(\n",
    "        params, lr=1e-4, momentum=0.9))\n",
    "optimizers.append(\n",
    "    lambda params: torch.optim.Adagrad(\n",
    "        params, lr=1e-2))\n",
    "optimizers.append(\n",
    "    lambda params: torch.optim.RMSprop(\n",
    "        params, lr=1e-4, alpha=0.99, eps=1e-08))\n",
    "optimizers.append(\n",
    "    lambda params: torch.optim.Adadelta(\n",
    "        params, rho=0.9, lr=1e-2, eps=1e-06))\n",
    "optimizers.append(\n",
    "    lambda params: torch.optim.Adam(\n",
    "        params, lr=1e-4, eps=1e-08, betas=(0.9, 0.999)))\n",
    "\n",
    "losses_list = []\n",
    "optimizer_name = []\n",
    "for optim in optimizers:\n",
    "    \"\"\"Forward propagate through network and backpropagate\n",
    "    for max_steps steps with PyTorch modules\"\"\"\n",
    "    # Define optimization (learning) steps\n",
    "    max_steps = 500\n",
    "\n",
    "    # Define learning rate\n",
    "    learning_rate = 1e-6\n",
    "\n",
    "    # Container to store loss through training\n",
    "    closs_list = []\n",
    "\n",
    "    # Build network\n",
    "    net = torch.nn.Sequential(\n",
    "        torch.nn.Linear(D_in, H),\n",
    "        torch.nn.ReLU(),\n",
    "        torch.nn.Linear(H, D_out)\n",
    "    ).to(device)\n",
    "\n",
    "    # Define optimizer\n",
    "    optimizer = optim(net.parameters())\n",
    "\n",
    "    # Define loss function\n",
    "    loss_fn = torch.nn.MSELoss(reduction='sum')\n",
    "\n",
    "    for t in range(max_steps):\n",
    "        # Forward pass and loss computation\n",
    "        yhat = net.forward(x)\n",
    "        loss = loss_fn(yhat, y)\n",
    "        closs_list.append(loss.item())\n",
    "\n",
    "        # Compute gradients using backpropagation\n",
    "        optimizer.zero_grad()\n",
    "        loss.backward()\n",
    "\n",
    "        # Take gradient step\n",
    "        optimizer.step()\n",
    "\n",
    "    losses_list.append(closs_list)\n",
    "    optimizer_name.append(str(optimizer).split(' (')[0])\n",
    "    if (optimizer_name[-1] == 'SGD' and\n",
    "        ('momentum', 0.9) in optimizer.defaults.items()):\n",
    "        optimizer_name[-1] += ' with Momentum'\n",
    "\n",
    "for closs_list, name in zip(losses_list, optimizer_name):\n",
    "    # Plot learning curve\n",
    "    plt.title('Learning curve.')\n",
    "    plt.ylabel('MSE')\n",
    "    plt.xlabel('Optimization steps.')\n",
    "    plt.plot(closs_list, '--', label=name)\n",
    "plt.legend(loc='upper right')"
   ]
  },
  {
   "cell_type": "markdown",
   "metadata": {},
   "source": [
    "### Exercise: Implement a four layer neural network and optimize it as described below (10 minutes):"
   ]
  },
  {
   "cell_type": "code",
   "execution_count": null,
   "metadata": {},
   "outputs": [],
   "source": [
    "# Create random input/output data\n",
    "D_in = 500\n",
    "D_out = 20\n",
    "N = 64\n",
    "x = torch.randn(N, D_in, device=device)\n",
    "y = torch.randn(N, D_out, device=device)\n",
    "\n",
    "# Define optimization (learning) steps\n",
    "max_steps = 500\n",
    "losses_list = []\n",
    "\n",
    "# Define learning rate\n",
    "learning_rate = 1e-6\n",
    "\n",
    "# Container to store loss through training\n",
    "closs_list = []\n",
    "\n",
    "\"\"\"\"\"\"\"\"\"\"\"\"\"\"\"\"\"\"\"\"\"\"\"\"\"\"\"\"\"\"\"\"\"\"\"\"\"\"\"\"\"\"\"\"\"\"\"\"\"\"\"\"\"\"\"\"\"\"\"\"\"\"\"\"\"\n",
    "\"\"\"\"\"\"\"\"\"\"\"\"\"\"\"\"\"\"\"\"\"\"\"\"\"\"\"\"\"\"\"\"\"\"\"\"\"\"\"\"\"\"\"\"\"\"\"\"\"\"\"\"\"\"\"\"\"\"\"\"\"\"\"\"\"\n",
    "\"\"\" COMPLETE CODE BELOW \"\"\"\"\"\"\"\"\"\"\"\"\"\"\"\"\"\"\"\"\"\"\"\"\"\"\"\"\"\"\"\"\"\"\"\"\"\"\"\"\"\n",
    "# Build network with the following description:\n",
    "#     layer 1: hidden_units=100, activation=Sigmoid\n",
    "#     layer 2: hidden_units=200, activation=Tanh\n",
    "#     layer 3: hidden_units=100, activation=ReLU\n",
    "# net = ...\n",
    "\"\"\"\"\"\"\"\"\"\"\"\"\"\"\"\"\"\"\"\"\"\"\"\"\"\"\"\"\"\"\"\"\"\"\"\"\"\"\"\"\"\"\"\"\"\"\"\"\"\"\"\"\"\"\"\"\"\"\"\"\"\"\"\"\"\n",
    "\"\"\"\"\"\"\"\"\"\"\"\"\"\"\"\"\"\"\"\"\"\"\"\"\"\"\"\"\"\"\"\"\"\"\"\"\"\"\"\"\"\"\"\"\"\"\"\"\"\"\"\"\"\"\"\"\"\"\"\"\"\"\"\"\"\n",
    "\n",
    "\n",
    "\"\"\"\"\"\"\"\"\"\"\"\"\"\"\"\"\"\"\"\"\"\"\"\"\"\"\"\"\"\"\"\"\"\"\"\"\"\"\"\"\"\"\"\"\"\"\"\"\"\"\"\"\"\"\"\"\"\"\"\"\"\"\"\"\"\n",
    "\"\"\"\"\"\"\"\"\"\"\"\"\"\"\"\"\"\"\"\"\"\"\"\"\"\"\"\"\"\"\"\"\"\"\"\"\"\"\"\"\"\"\"\"\"\"\"\"\"\"\"\"\"\"\"\"\"\"\"\"\"\"\"\"\"\n",
    "\"\"\" COMPLETE CODE BELOW \"\"\"\"\"\"\"\"\"\"\"\"\"\"\"\"\"\"\"\"\"\"\"\"\"\"\"\"\"\"\"\"\"\"\"\"\"\"\"\"\"\n",
    "# Use Adam optimizer for network optimization\n",
    "# optimizer = ...\n",
    "\"\"\"\"\"\"\"\"\"\"\"\"\"\"\"\"\"\"\"\"\"\"\"\"\"\"\"\"\"\"\"\"\"\"\"\"\"\"\"\"\"\"\"\"\"\"\"\"\"\"\"\"\"\"\"\"\"\"\"\"\"\"\"\"\"\n",
    "\"\"\"\"\"\"\"\"\"\"\"\"\"\"\"\"\"\"\"\"\"\"\"\"\"\"\"\"\"\"\"\"\"\"\"\"\"\"\"\"\"\"\"\"\"\"\"\"\"\"\"\"\"\"\"\"\"\"\"\"\"\"\"\"\"\n",
    "\n",
    "# Define loss function\n",
    "loss_fn = torch.nn.MSELoss(reduction='sum')\n",
    "\n",
    "for t in range(max_steps):\n",
    "    # Forward pass and loss computation\n",
    "    yhat = net.forward(x)\n",
    "    loss = loss_fn(yhat, y)\n",
    "    closs_list.append(loss.item())\n",
    "\n",
    "    # Compute gradients using backpropagation\n",
    "    optimizer.zero_grad()\n",
    "    loss.backward()\n",
    "\n",
    "    # Take gradient step\n",
    "    optimizer.step()\n",
    "\n",
    "# Plot learning curve\n",
    "plt.title('Learning curve.')\n",
    "plt.ylabel('MSE')\n",
    "plt.xlabel('Optimization steps.')\n",
    "plt.plot(closs_list, '--')"
   ]
  },
  {
   "cell_type": "markdown",
   "metadata": {},
   "source": [
    "## Regularization"
   ]
  },
  {
   "cell_type": "markdown",
   "metadata": {},
   "source": [
    "Neural networks are powerful devices. However, if data is small and we are not careful, they will try to fit the training data as perfectly as possible ignoring the true underlying data structure. More importantly, if any noise is present, they will end up overfitting to the noise itself!\n",
    "Let us create some data below:"
   ]
  },
  {
   "cell_type": "code",
   "execution_count": 11,
   "metadata": {},
   "outputs": [
    {
     "data": {
      "text/plain": [
       "<matplotlib.legend.Legend at 0x7f7126238150>"
      ]
     },
     "execution_count": 11,
     "metadata": {},
     "output_type": "execute_result"
    },
    {
     "data": {
      "image/png": "[encoded data removed]",
      "text/plain": [
       "<Figure size 432x288 with 1 Axes>"
      ]
     },
     "metadata": {
      "needs_background": "light"
     },
     "output_type": "display_data"
    }
   ],
   "source": [
    "# Let's create some data and plot it\n",
    "# Train data\n",
    "xtrain = torch.FloatTensor([i * math.pi / 180 for i in range(0, 200, 4)])\n",
    "noise = torch.normal(\n",
    "    torch.zeros(xtrain.shape[0]), torch.ones(xtrain.shape[0]) * 0.2)\n",
    "ytrue = torch.sin(xtrain)\n",
    "ynoise_train = torch.sin(xtrain) + noise\n",
    "\n",
    "# Validation data\n",
    "xval = torch.FloatTensor([i * math.pi / 180 for i in range(2, 200, 4)])\n",
    "noise = torch.normal(\n",
    "    torch.zeros(xval.shape[0]), torch.ones(xval.shape[0]) * 0.2)\n",
    "ynoise_val = torch.sin(xval) + noise\n",
    "\n",
    "plt.plot(xtrain.numpy(), ytrue.numpy(), '--', label='true data')\n",
    "plt.plot(xtrain.numpy(), ynoise_train.numpy(), '.', label='noisy data')\n",
    "plt.legend(loc='lower left')"
   ]
  },
  {
   "cell_type": "markdown",
   "metadata": {},
   "source": [
    "There are many ways to regularize neural networks. The first are to purposedly try to reduce the network capacity. In essense, just drop as many weight connections as neccessary. In this tutorial, we will experiment with $\\textbf{L1}$ and $\\textbf{L2}$ weight regularization:\n",
    "\n",
    "$$\n",
    "\\begin{equation} \n",
    "J(\\theta) = \\ell(f(x), y; \\theta) + \\lambda \\mathcal{R}(\\theta),\\nonumber\n",
    "\\end{equation}\n",
    "$$\n",
    "\n",
    "where $\\ell(f(x), y; \\theta)$ is the loss between the network output and the groundtruth data, $\\mathcal{R}$ is a regularizer function, and $\\lambda$ is a weight we can choose to give the regularization. For L2 regularization $\\mathcal{R}(\\theta) = \\sum^k \\|\\theta_k\\|^2_2$, and for L1 we use $\\mathcal{R}(\\theta) = \\sum^k |\\theta_k|$.\n",
    "\n",
    "Other types of regularization include the highly popular $\\textbf{Dropout}$. In essence, dropout turns off random neurons in the network randomly which results in random smaller subset of neurons being able to predict the data. When we apply weight decay, we learn a single \"smaller\" network that predicts the data. In dropout, we essentially learn an average of multiple smaller networks that predict the data which collaboratively perform better than the single large network with which we started.\n",
    "\n",
    "Finally, another way to prevent overfitting is $\\textbf{early stopping}$. For this technique, we need validation data which we use to test the currently learned network during training. If the validation error starts going down, this indicates overfitting is happening. Once this happens, we stop the training."
   ]
  },
  {
   "cell_type": "code",
   "execution_count": 13,
   "metadata": {},
   "outputs": [
    {
     "data": {
      "text/plain": [
       "<matplotlib.legend.Legend at 0x7f712613cd50>"
      ]
     },
     "execution_count": 13,
     "metadata": {},
     "output_type": "execute_result"
    },
    {
     "data": {
      "image/png": "[encoded data removed]",
      "text/plain": [
       "<Figure size 432x288 with 1 Axes>"
      ]
     },
     "metadata": {
      "needs_background": "light"
     },
     "output_type": "display_data"
    }
   ],
   "source": [
    "# Number of training steps\n",
    "max_steps = 10000\n",
    "hidden_units = 50\n",
    "lambda_ = 0.0001\n",
    "\n",
    "# For L1 or L2 regularization\n",
    "# Uncomment either l1 or l2 to be applied to the network training\n",
    "reg_type = None\n",
    "# reg_type = 'l1'\n",
    "# reg_type = 'l2'\n",
    "\n",
    "# For dropout regularization\n",
    "p = 0.0 # percentage of units to drop out [0, 1]\n",
    "\n",
    "# For early stopping\n",
    "early_stopping = False\n",
    "prev_val_loss = None\n",
    "\n",
    "# Now, let's build a four layer network and train\n",
    "net = torch.nn.Sequential(\n",
    "    torch.nn.Linear(1, hidden_units),\n",
    "    torch.nn.ReLU(),\n",
    "    torch.nn.Dropout(p=p),\n",
    "    torch.nn.Linear(hidden_units, hidden_units),\n",
    "    torch.nn.ReLU(),\n",
    "    torch.nn.Dropout(p=p),\n",
    "    torch.nn.Linear(hidden_units, hidden_units),\n",
    "    torch.nn.ReLU(),\n",
    "    torch.nn.Dropout(p=p),\n",
    "    torch.nn.Linear(hidden_units, 1)\n",
    ").to(device)\n",
    "\n",
    "# Define optimizer\n",
    "optimizer = torch.optim.Adagrad(net.parameters(), lr=1e-2)\n",
    "\n",
    "# Define loss\n",
    "loss_fn = torch.nn.MSELoss(reduction='mean')\n",
    "\n",
    "# Train\n",
    "for t in range(max_steps):\n",
    "    # Set network to training mode and feedforward through it\n",
    "    net.train()\n",
    "    yhat = net.forward(xtrain[:, None])\n",
    "    \n",
    "    # Choose type of weight regularizer\n",
    "    reg_loss = 0.0\n",
    "    if reg_type is not None:\n",
    "        if reg_type == 'l1':\n",
    "            regularizer = lambda x: torch.abs(x)\n",
    "        elif reg_type == 'l2':\n",
    "            regularizer = lambda x: x ** 2\n",
    "        else:\n",
    "            raise Exception('Unknown regularization: %d' %reg_type)\n",
    "\n",
    "        for param in net.parameters():\n",
    "            reg_loss += regularizer(param).sum()\n",
    "        \n",
    "    \n",
    "    # Loss computation\n",
    "    loss = loss_fn(yhat, ynoise_train[:, None]) + lambda_ * reg_loss\n",
    "    \n",
    "    # Compute gradients using backpropagation\n",
    "    optimizer.zero_grad()\n",
    "    loss.backward()\n",
    "\n",
    "    # Take gradient step\n",
    "    optimizer.step()\n",
    "    \n",
    "    # Check early stopping criteria\n",
    "    if early_stopping and t % 100 == 0:\n",
    "        net.eval()\n",
    "        yhat_val = net.forward(xval[:, None])\n",
    "        curr_val_loss = loss_fn(yhat_val, ynoise_val[:, None])\n",
    "        if prev_val_loss is not None and prev_val_loss > curr_val_loss:\n",
    "            print('Early stopping activated!!')\n",
    "            print('Previous validataion loss %f.' %prev_val_loss)\n",
    "            print('Current validataion loss %f.' %curr_val_loss)\n",
    "            break\n",
    "        prev_val_loss = curr_val_loss\n",
    "\n",
    "# Eval mode to turn off dropout\n",
    "net.eval()\n",
    "yhat = net.forward(xtrain[:, None])\n",
    "    \n",
    "plt.plot(xtrain.numpy(), ynoise_train.detach().numpy(), '.', label='noisy data')    \n",
    "plt.plot(xtrain.numpy(), yhat.detach().numpy(), '--', label='predictions')\n",
    "plt.plot(xtrain.numpy(), ytrue.detach().numpy(), '--', label='true data')\n",
    "plt.legend(loc='lower left')\n"
   ]
  },
  {
   "cell_type": "markdown",
   "metadata": {},
   "source": [
    "### Exercise: Implement a neural network for binary classification. (until the end of class)"
   ]
  },
  {
   "cell_type": "markdown",
   "metadata": {},
   "source": [
    "Note: Make use of any of the techniques provided in this tutorial to optimize your network."
   ]
  },
  {
   "cell_type": "code",
   "execution_count": 14,
   "metadata": {},
   "outputs": [
    {
     "data": {
      "image/png": "[encoded data removed]",
      "text/plain": [
       "<Figure size 432x288 with 1 Axes>"
      ]
     },
     "metadata": {
      "needs_background": "light"
     },
     "output_type": "display_data"
    }
   ],
   "source": [
    "# Generate random data clusters\n",
    "train_perc = 0.7\n",
    "val_perc = 0.2\n",
    "test_perc = 0.1\n",
    "\n",
    "cluster_offset = 1.5\n",
    "N = 1000\n",
    "num_train = int(N * train_perc)\n",
    "num_val = int(N * val_perc)\n",
    "num_test = int(N * test_perc)\n",
    "\n",
    "x1 = torch.randn(N, 2)\n",
    "x2 = torch.randn(N, 2) + cluster_offset\n",
    "xtrain = torch.cat([x1[:num_train], x2[:num_train]], dim=0)\n",
    "xval = torch.cat([x1[num_train:num_train+num_val], x2[num_train:num_train+num_val]], dim=0)\n",
    "xtest = torch.cat([x1[-num_test:], x2[-num_test:]], dim=0)\n",
    "\n",
    "y1 = torch.zeros(N, 1)\n",
    "y2 = torch.ones(N, 1)\n",
    "ytrain = torch.cat([y1[:num_train], y2[:num_train]], dim=0)\n",
    "yval = torch.cat([y1[num_train:num_train+num_val], y2[num_train:num_train+num_val]], dim=0)\n",
    "ytest = torch.cat([y1[-num_test:], y2[-num_test:]], dim=0)\n",
    "\n",
    "# Visualize the training data\n",
    "plt.scatter(x1[:int(N * train_perc), 0], x1[:int(N * train_perc), 1], color='b')\n",
    "plt.scatter(x2[:int(N * train_perc), 0], x2[:int(N * train_perc), 1], color='r')\n",
    "\n",
    "\n",
    "# Randomly permute train data\n",
    "permutation = torch.randperm(xtrain.shape[0])\n",
    "xtrain = xtrain[permutation]\n",
    "ytrain = ytrain[permutation]"
   ]
  },
  {
   "cell_type": "code",
   "execution_count": null,
   "metadata": {},
   "outputs": [],
   "source": [
    "# Number of training steps\n",
    "max_steps = 10000\n",
    "lambda_ = 0.0001\n",
    "\n",
    "# For L1 or L2 regularization\n",
    "# Uncomment either l1 or l2 to be applied to the network training\n",
    "reg_type = None\n",
    "# reg_type = 'l1'\n",
    "# reg_type = 'l2'\n",
    "\n",
    "# For dropout regularization\n",
    "p = 0.0 # percentage of units to drop out [0, 1]\n",
    "\n",
    "# For early stopping\n",
    "early_stopping = False\n",
    "prev_val_loss = None\n",
    "\n",
    "\"\"\"\"\"\"\"\"\"\"\"\"\"\"\"\"\"\"\"\"\"\"\"\"\"\"\"\"\"\"\"\"\"\"\"\"\"\"\"\"\"\"\"\"\"\"\"\"\"\"\"\"\"\"\"\"\"\"\"\"\"\"\"\"\"\n",
    "\"\"\"\"\"\"\"\"\"\"\"\"\"\"\"\"\"\"\"\"\"\"\"\"\"\"\"\"\"\"\"\"\"\"\"\"\"\"\"\"\"\"\"\"\"\"\"\"\"\"\"\"\"\"\"\"\"\"\"\"\"\"\"\"\"\n",
    "\"\"\" COMPLETE CODE BELOW \"\"\"\"\"\"\"\"\"\"\"\"\"\"\"\"\"\"\"\"\"\"\"\"\"\"\"\"\"\"\"\"\"\"\"\"\"\"\"\"\"\n",
    "# Now, let's build a four layer network for binary classification\n",
    "# Hint: Last layer's output activation is Sigmoid\n",
    "# net = ...\n",
    "\"\"\"\"\"\"\"\"\"\"\"\"\"\"\"\"\"\"\"\"\"\"\"\"\"\"\"\"\"\"\"\"\"\"\"\"\"\"\"\"\"\"\"\"\"\"\"\"\"\"\"\"\"\"\"\"\"\"\"\"\"\"\"\"\"\n",
    "\"\"\"\"\"\"\"\"\"\"\"\"\"\"\"\"\"\"\"\"\"\"\"\"\"\"\"\"\"\"\"\"\"\"\"\"\"\"\"\"\"\"\"\"\"\"\"\"\"\"\"\"\"\"\"\"\"\"\"\"\"\"\"\"\"\n",
    "\n",
    "\"\"\"\"\"\"\"\"\"\"\"\"\"\"\"\"\"\"\"\"\"\"\"\"\"\"\"\"\"\"\"\"\"\"\"\"\"\"\"\"\"\"\"\"\"\"\"\"\"\"\"\"\"\"\"\"\"\"\"\"\"\"\"\"\"\n",
    "\"\"\"\"\"\"\"\"\"\"\"\"\"\"\"\"\"\"\"\"\"\"\"\"\"\"\"\"\"\"\"\"\"\"\"\"\"\"\"\"\"\"\"\"\"\"\"\"\"\"\"\"\"\"\"\"\"\"\"\"\"\"\"\"\"\n",
    "\"\"\" COMPLETE CODE BELOW \"\"\"\"\"\"\"\"\"\"\"\"\"\"\"\"\"\"\"\"\"\"\"\"\"\"\"\"\"\"\"\"\"\"\"\"\"\"\"\"\"\n",
    "# Define optimizer\n",
    "# optimizer = ...\n",
    "\"\"\"\"\"\"\"\"\"\"\"\"\"\"\"\"\"\"\"\"\"\"\"\"\"\"\"\"\"\"\"\"\"\"\"\"\"\"\"\"\"\"\"\"\"\"\"\"\"\"\"\"\"\"\"\"\"\"\"\"\"\"\"\"\"\n",
    "\"\"\"\"\"\"\"\"\"\"\"\"\"\"\"\"\"\"\"\"\"\"\"\"\"\"\"\"\"\"\"\"\"\"\"\"\"\"\"\"\"\"\"\"\"\"\"\"\"\"\"\"\"\"\"\"\"\"\"\"\"\"\"\"\"\n",
    "\n",
    "\"\"\"\"\"\"\"\"\"\"\"\"\"\"\"\"\"\"\"\"\"\"\"\"\"\"\"\"\"\"\"\"\"\"\"\"\"\"\"\"\"\"\"\"\"\"\"\"\"\"\"\"\"\"\"\"\"\"\"\"\"\"\"\"\"\n",
    "\"\"\"\"\"\"\"\"\"\"\"\"\"\"\"\"\"\"\"\"\"\"\"\"\"\"\"\"\"\"\"\"\"\"\"\"\"\"\"\"\"\"\"\"\"\"\"\"\"\"\"\"\"\"\"\"\"\"\"\"\"\"\"\"\"\n",
    "\"\"\" COMPLETE CODE BELOW \"\"\"\"\"\"\"\"\"\"\"\"\"\"\"\"\"\"\"\"\"\"\"\"\"\"\"\"\"\"\"\"\"\"\"\"\"\"\"\"\"\n",
    "# Define the binary cross entropy loss function\n",
    "#loss_fn = ...\n",
    "\"\"\"\"\"\"\"\"\"\"\"\"\"\"\"\"\"\"\"\"\"\"\"\"\"\"\"\"\"\"\"\"\"\"\"\"\"\"\"\"\"\"\"\"\"\"\"\"\"\"\"\"\"\"\"\"\"\"\"\"\"\"\"\"\"\n",
    "\"\"\"\"\"\"\"\"\"\"\"\"\"\"\"\"\"\"\"\"\"\"\"\"\"\"\"\"\"\"\"\"\"\"\"\"\"\"\"\"\"\"\"\"\"\"\"\"\"\"\"\"\"\"\"\"\"\"\"\"\"\"\"\"\"\n",
    "\n",
    "# Train\n",
    "for t in range(max_steps):\n",
    "    # Set network to training mode and feedforward through it\n",
    "    net.train()\n",
    "    yhat = net.forward(xtrain)\n",
    "    \n",
    "    # Choose type of weight regularizer\n",
    "    reg_loss = 0.0\n",
    "    if reg_type is not None:\n",
    "        if reg_type == 'l1':\n",
    "            regularizer = lambda x: torch.abs(x)\n",
    "        elif reg_type == 'l2':\n",
    "            regularizer = lambda x: x ** 2\n",
    "        else:\n",
    "            raise Exception('Unknown regularization: %d' %reg_type)\n",
    "\n",
    "        for param in net.parameters():\n",
    "            reg_loss += regularizer(param).sum()\n",
    "        \n",
    "\n",
    "    \"\"\"\"\"\"\"\"\"\"\"\"\"\"\"\"\"\"\"\"\"\"\"\"\"\"\"\"\"\"\"\"\"\"\"\"\"\"\"\"\"\"\"\"\"\"\"\"\"\"\"\"\"\"\"\"\"\"\"\"\"\"\"\"\"\n",
    "    \"\"\"\"\"\"\"\"\"\"\"\"\"\"\"\"\"\"\"\"\"\"\"\"\"\"\"\"\"\"\"\"\"\"\"\"\"\"\"\"\"\"\"\"\"\"\"\"\"\"\"\"\"\"\"\"\"\"\"\"\"\"\"\"\"\n",
    "    \"\"\" COMPLETE CODE BELOW \"\"\"\"\"\"\"\"\"\"\"\"\"\"\"\"\"\"\"\"\"\"\"\"\"\"\"\"\"\"\"\"\"\"\"\"\"\"\"\"\"\n",
    "    # Loss computation\n",
    "    # loss = ...\n",
    "    \"\"\"\"\"\"\"\"\"\"\"\"\"\"\"\"\"\"\"\"\"\"\"\"\"\"\"\"\"\"\"\"\"\"\"\"\"\"\"\"\"\"\"\"\"\"\"\"\"\"\"\"\"\"\"\"\"\"\"\"\"\"\"\"\"\n",
    "    \"\"\"\"\"\"\"\"\"\"\"\"\"\"\"\"\"\"\"\"\"\"\"\"\"\"\"\"\"\"\"\"\"\"\"\"\"\"\"\"\"\"\"\"\"\"\"\"\"\"\"\"\"\"\"\"\"\"\"\"\"\"\"\"\"\n",
    "    \n",
    "    # Compute gradients using backpropagation\n",
    "    optimizer.zero_grad()\n",
    "    loss.backward()\n",
    "\n",
    "    # Take gradient step\n",
    "    optimizer.step()\n",
    "    \n",
    "    # Check early stopping criteria\n",
    "    if early_stopping and t % 100 == 0:\n",
    "        net.eval()\n",
    "        yhat_val = net.forward(xval)\n",
    "        curr_val_loss = loss_fn(yhat_val, yval)\n",
    "        if prev_val_loss is not None and prev_val_loss > curr_val_loss:\n",
    "            print('Early stopping activated!!')\n",
    "            print('Previous validataion loss %f.' %prev_val_loss)\n",
    "            print('Current validataion loss %f.' %curr_val_loss)\n",
    "            break\n",
    "        prev_val_loss = curr_val_loss\n",
    "\n",
    "\n",
    "# Eval mode to turn off dropout\n",
    "net.eval()\n",
    "yhat = net.forward(xtest)\n",
    "colors = []\n",
    "for val in yhat:\n",
    "    if val > 0.5:\n",
    "        colors.append('b')\n",
    "    else:\n",
    "        colors.append('r')\n",
    "    \n",
    "# Visualize the testing data and the predicted classes\n",
    "plt.scatter(xtest[:, 0], xtest[:, 1], color=colors)\n",
    "\n",
    "\n",
    "yhat = net.forward(xtrain).round()\n",
    "print('Train accuracy: %f' %(yhat == ytrain).float().mean())\n",
    "\n",
    "\n",
    "yhat = net.forward(xval).round()\n",
    "print('Validation accuracy: %f' %(yhat == yval).float().mean())\n",
    "\n",
    "\n",
    "yhat = net.forward(xtest).round()\n",
    "print('Test accuracy: %f' %(yhat == ytest).float().mean())"
   ]
  },
  {
   "cell_type": "code",
   "execution_count": null,
   "metadata": {},
   "outputs": [],
   "source": [
    "# Let us check what the true test data looks like!\n",
    "colors = []\n",
    "for val in ytest:\n",
    "    if val > 0.5:\n",
    "        colors.append('b')\n",
    "    else:\n",
    "        colors.append('r')\n",
    "    \n",
    "# Visualize the training data\n",
    "plt.scatter(xtest[:, 0], xtest[:, 1], color=colors)"
   ]
  },
  {
   "cell_type": "markdown",
   "metadata": {},
   "source": [
    "### CONGRATULATIONS! YOU HAVE TRAINED A BINARY CLASSIFICATION NETWORK!"
   ]
  }
 ],
 "metadata": {
  "kernelspec": {
   "display_name": "Python 2",
   "language": "python",
   "name": "python2"
  },
  "language_info": {
   "codemirror_mode": {
    "name": "ipython",
    "version": 2
   },
   "file_extension": ".py",
   "mimetype": "text/x-python",
   "name": "python",
   "nbconvert_exporter": "python",
   "pygments_lexer": "ipython2",
   "version": "2.7.15"
  }
 },
 "nbformat": 4,
 "nbformat_minor": 1
}
